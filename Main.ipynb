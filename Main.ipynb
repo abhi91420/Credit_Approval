{
  "nbformat": 4,
  "nbformat_minor": 0,
  "metadata": {
    "colab": {
      "name": "Main.ipynb",
      "provenance": [],
      "collapsed_sections": [],
      "include_colab_link": true
    },
    "kernelspec": {
      "name": "python3",
      "display_name": "Python 3"
    }
  },
  "cells": [
    {
      "cell_type": "markdown",
      "metadata": {
        "id": "view-in-github",
        "colab_type": "text"
      },
      "source": [
        "<a href=\"https://colab.research.google.com/github/abhi91420/Credit_Approval/blob/master/Main.ipynb\" target=\"_parent\"><img src=\"https://colab.research.google.com/assets/colab-badge.svg\" alt=\"Open In Colab\"/></a>"
      ]
    },
    {
      "cell_type": "markdown",
      "metadata": {
        "id": "UoEzsj3anxVt",
        "colab_type": "text"
      },
      "source": [
        "# Importing packages and dataset\n",
        "\n",
        "1. Import required packages\n",
        "2. Import dataset into google drive\n",
        "3. Mount google drive to colab\n",
        "4. Read the file using Pandas package method\n",
        "5. Displaying the First Five rows ( HEAD ) of the dataset\n",
        "\n",
        "NOTE - \n",
        "1. pd is an instance of the pandas package to make it easier to access methods\n",
        "2. read_csv() - read comma seperated values file"
      ]
    },
    {
      "cell_type": "code",
      "metadata": {
        "id": "f_ea_LtZdfPt",
        "colab_type": "code",
        "colab": {
          "base_uri": "https://localhost:8080/",
          "height": 34
        },
        "outputId": "92d8f373-ca46-4fc4-c3df-c69e934fc121"
      },
      "source": [
        "# mount drive \n",
        "from google.colab import drive\n",
        "drive.mount('/content/drive')"
      ],
      "execution_count": 86,
      "outputs": [
        {
          "output_type": "stream",
          "text": [
            "Drive already mounted at /content/drive; to attempt to forcibly remount, call drive.mount(\"/content/drive\", force_remount=True).\n"
          ],
          "name": "stdout"
        }
      ]
    },
    {
      "cell_type": "code",
      "metadata": {
        "id": "1FJisQK0n41a",
        "colab_type": "code",
        "colab": {
          "base_uri": "https://localhost:8080/",
          "height": 204
        },
        "outputId": "f62d4d10-9380-4b7f-9d72-abe15e64ba24"
      },
      "source": [
        "# Import statements\n",
        "\n",
        "# dataframes and related methods\n",
        "import pandas as pd\n",
        "import numpy as np \n",
        "\n",
        "# machine learning and data preprocessing\n",
        "from sklearn.preprocessing import LabelEncoder\n",
        "from sklearn.model_selection import train_test_split\n",
        "from sklearn.preprocessing import MinMaxScaler\n",
        "from sklearn.linear_model import LogisticRegression,LinearRegression,RidgeClassifier\n",
        "\n",
        "# Graph plotting \n",
        "import matplotlib.pyplot as plt\n",
        "import seaborn as sns\n",
        "\n",
        "# clean printing\n",
        "import warnings\n",
        "warnings.filterwarnings(\"ignore\")\n",
        "\n",
        "# Load dataset into a dataframe \n",
        "dataset_file = pd.read_csv('/content/drive/My Drive/crx.data',header = None)\n",
        "\n",
        "# Inspect data\n",
        "dataset_file.head()"
      ],
      "execution_count": 87,
      "outputs": [
        {
          "output_type": "execute_result",
          "data": {
            "text/html": [
              "<div>\n",
              "<style scoped>\n",
              "    .dataframe tbody tr th:only-of-type {\n",
              "        vertical-align: middle;\n",
              "    }\n",
              "\n",
              "    .dataframe tbody tr th {\n",
              "        vertical-align: top;\n",
              "    }\n",
              "\n",
              "    .dataframe thead th {\n",
              "        text-align: right;\n",
              "    }\n",
              "</style>\n",
              "<table border=\"1\" class=\"dataframe\">\n",
              "  <thead>\n",
              "    <tr style=\"text-align: right;\">\n",
              "      <th></th>\n",
              "      <th>0</th>\n",
              "      <th>1</th>\n",
              "      <th>2</th>\n",
              "      <th>3</th>\n",
              "      <th>4</th>\n",
              "      <th>5</th>\n",
              "      <th>6</th>\n",
              "      <th>7</th>\n",
              "      <th>8</th>\n",
              "      <th>9</th>\n",
              "      <th>10</th>\n",
              "      <th>11</th>\n",
              "      <th>12</th>\n",
              "      <th>13</th>\n",
              "      <th>14</th>\n",
              "      <th>15</th>\n",
              "    </tr>\n",
              "  </thead>\n",
              "  <tbody>\n",
              "    <tr>\n",
              "      <th>0</th>\n",
              "      <td>b</td>\n",
              "      <td>30.83</td>\n",
              "      <td>0.000</td>\n",
              "      <td>u</td>\n",
              "      <td>g</td>\n",
              "      <td>w</td>\n",
              "      <td>v</td>\n",
              "      <td>1.25</td>\n",
              "      <td>t</td>\n",
              "      <td>t</td>\n",
              "      <td>1</td>\n",
              "      <td>f</td>\n",
              "      <td>g</td>\n",
              "      <td>00202</td>\n",
              "      <td>0</td>\n",
              "      <td>+</td>\n",
              "    </tr>\n",
              "    <tr>\n",
              "      <th>1</th>\n",
              "      <td>a</td>\n",
              "      <td>58.67</td>\n",
              "      <td>4.460</td>\n",
              "      <td>u</td>\n",
              "      <td>g</td>\n",
              "      <td>q</td>\n",
              "      <td>h</td>\n",
              "      <td>3.04</td>\n",
              "      <td>t</td>\n",
              "      <td>t</td>\n",
              "      <td>6</td>\n",
              "      <td>f</td>\n",
              "      <td>g</td>\n",
              "      <td>00043</td>\n",
              "      <td>560</td>\n",
              "      <td>+</td>\n",
              "    </tr>\n",
              "    <tr>\n",
              "      <th>2</th>\n",
              "      <td>a</td>\n",
              "      <td>24.50</td>\n",
              "      <td>0.500</td>\n",
              "      <td>u</td>\n",
              "      <td>g</td>\n",
              "      <td>q</td>\n",
              "      <td>h</td>\n",
              "      <td>1.50</td>\n",
              "      <td>t</td>\n",
              "      <td>f</td>\n",
              "      <td>0</td>\n",
              "      <td>f</td>\n",
              "      <td>g</td>\n",
              "      <td>00280</td>\n",
              "      <td>824</td>\n",
              "      <td>+</td>\n",
              "    </tr>\n",
              "    <tr>\n",
              "      <th>3</th>\n",
              "      <td>b</td>\n",
              "      <td>27.83</td>\n",
              "      <td>1.540</td>\n",
              "      <td>u</td>\n",
              "      <td>g</td>\n",
              "      <td>w</td>\n",
              "      <td>v</td>\n",
              "      <td>3.75</td>\n",
              "      <td>t</td>\n",
              "      <td>t</td>\n",
              "      <td>5</td>\n",
              "      <td>t</td>\n",
              "      <td>g</td>\n",
              "      <td>00100</td>\n",
              "      <td>3</td>\n",
              "      <td>+</td>\n",
              "    </tr>\n",
              "    <tr>\n",
              "      <th>4</th>\n",
              "      <td>b</td>\n",
              "      <td>20.17</td>\n",
              "      <td>5.625</td>\n",
              "      <td>u</td>\n",
              "      <td>g</td>\n",
              "      <td>w</td>\n",
              "      <td>v</td>\n",
              "      <td>1.71</td>\n",
              "      <td>t</td>\n",
              "      <td>f</td>\n",
              "      <td>0</td>\n",
              "      <td>f</td>\n",
              "      <td>s</td>\n",
              "      <td>00120</td>\n",
              "      <td>0</td>\n",
              "      <td>+</td>\n",
              "    </tr>\n",
              "  </tbody>\n",
              "</table>\n",
              "</div>"
            ],
            "text/plain": [
              "  0      1      2  3  4  5  6     7  8  9   10 11 12     13   14 15\n",
              "0  b  30.83  0.000  u  g  w  v  1.25  t  t   1  f  g  00202    0  +\n",
              "1  a  58.67  4.460  u  g  q  h  3.04  t  t   6  f  g  00043  560  +\n",
              "2  a  24.50  0.500  u  g  q  h  1.50  t  f   0  f  g  00280  824  +\n",
              "3  b  27.83  1.540  u  g  w  v  3.75  t  t   5  t  g  00100    3  +\n",
              "4  b  20.17  5.625  u  g  w  v  1.71  t  f   0  f  s  00120    0  +"
            ]
          },
          "metadata": {
            "tags": []
          },
          "execution_count": 87
        }
      ]
    },
    {
      "cell_type": "markdown",
      "metadata": {
        "id": "TclrfxV9xkIh",
        "colab_type": "text"
      },
      "source": [
        "# Custom Functions \n",
        "\n",
        "To reduce redundacy"
      ]
    },
    {
      "cell_type": "code",
      "metadata": {
        "id": "rieXX0Iex-nN",
        "colab_type": "code",
        "colab": {}
      },
      "source": [
        "# Extras\n",
        "\n",
        "\"\"\"\n",
        "* Takes an string argument\n",
        "* EX - printblock(\"A word or a sentence\")\n",
        "\"\"\"\n",
        "def printblock(out,i=None):\n",
        "  if(i!=None):\n",
        "    print(\"----------------------------------------------------------------\")\n",
        "    print(out,i)\n",
        "    print(\"----------------------------------------------------------------\")\n",
        "  else:\n",
        "    print(\"----------------------------------------------------------------\")\n",
        "    print(out,i)\n",
        "    print(\"----------------------------------------------------------------\")\n",
        "  \n",
        "def accuracy(obj):\n",
        "  print(round(obj.score(x_test_rescaled,y_test)*100,4),\"%\\n\")\n",
        "\n",
        "def plot(col):\n",
        "  sns.distplot(col)\n",
        "  plt.show()"
      ],
      "execution_count": 115,
      "outputs": []
    },
    {
      "cell_type": "markdown",
      "metadata": {
        "id": "CNGkf1CdoZRc",
        "colab_type": "text"
      },
      "source": [
        "# Understanding the dataset\n",
        "\n",
        "1. dataset given has meaningless symbols in an attempt to hide the privacy of the data \n",
        "2. I have refered to this [link](http://rstudio-pubs-static.s3.amazonaws.com/73039_9946de135c0a49daa7a0a9eda4a67a72.html) to better understand the possible attribute values \n",
        "3. I found out that these are the possible attributes -\n",
        "ender, Age, Debt, Married, BankCustomer, EducationLevel, Ethnicity, YearsEmployed, PriorDefault, Employed, CreditScore, DriversLicense, Citizen, ZipCode, Income and ApprovalStatus.\n",
        "4. let us now take a look at the dataset and some information regarding it."
      ]
    },
    {
      "cell_type": "code",
      "metadata": {
        "id": "56rmFOF_oYbT",
        "colab_type": "code",
        "colab": {
          "base_uri": "https://localhost:8080/",
          "height": 697
        },
        "outputId": "44b6ed2f-5db7-4f43-a310-7812a9a48254"
      },
      "source": [
        "# This method will get statistics on this dataset\n",
        "printblock(\"DATASET - SUMMARY\")\n",
        "print(dataset_file.describe(),\"\\n\")\n",
        "\n",
        "# Dataframe information\n",
        "printblock(\"DATAFRAME - INFO\")\n",
        "print(dataset_file.info())"
      ],
      "execution_count": 89,
      "outputs": [
        {
          "output_type": "stream",
          "text": [
            "----------------------------------------------------------------\n",
            "DATASET - SUMMARY\n",
            "----------------------------------------------------------------\n",
            "               2           7          10             14\n",
            "count  690.000000  690.000000  690.00000     690.000000\n",
            "mean     4.758725    2.223406    2.40000    1017.385507\n",
            "std      4.978163    3.346513    4.86294    5210.102598\n",
            "min      0.000000    0.000000    0.00000       0.000000\n",
            "25%      1.000000    0.165000    0.00000       0.000000\n",
            "50%      2.750000    1.000000    0.00000       5.000000\n",
            "75%      7.207500    2.625000    3.00000     395.500000\n",
            "max     28.000000   28.500000   67.00000  100000.000000 \n",
            "\n",
            "----------------------------------------------------------------\n",
            "DATAFRAME - INFO\n",
            "----------------------------------------------------------------\n",
            "<class 'pandas.core.frame.DataFrame'>\n",
            "RangeIndex: 690 entries, 0 to 689\n",
            "Data columns (total 16 columns):\n",
            " #   Column  Non-Null Count  Dtype  \n",
            "---  ------  --------------  -----  \n",
            " 0   0       690 non-null    object \n",
            " 1   1       690 non-null    object \n",
            " 2   2       690 non-null    float64\n",
            " 3   3       690 non-null    object \n",
            " 4   4       690 non-null    object \n",
            " 5   5       690 non-null    object \n",
            " 6   6       690 non-null    object \n",
            " 7   7       690 non-null    float64\n",
            " 8   8       690 non-null    object \n",
            " 9   9       690 non-null    object \n",
            " 10  10      690 non-null    int64  \n",
            " 11  11      690 non-null    object \n",
            " 12  12      690 non-null    object \n",
            " 13  13      690 non-null    object \n",
            " 14  14      690 non-null    int64  \n",
            " 15  15      690 non-null    object \n",
            "dtypes: float64(2), int64(2), object(12)\n",
            "memory usage: 86.4+ KB\n",
            "None\n"
          ],
          "name": "stdout"
        }
      ]
    },
    {
      "cell_type": "markdown",
      "metadata": {
        "id": "uStsZVCw1Vtr",
        "colab_type": "text"
      },
      "source": [
        "# Missing Values Handling\n",
        "\n",
        "1. In the file there are '?' characters which imply mising data \n",
        "2. To make that data understandable we will replace them with NaN values\n",
        "\n",
        "NOTE - NaN - Not a number"
      ]
    },
    {
      "cell_type": "code",
      "metadata": {
        "id": "ONOIKqVm1urC",
        "colab_type": "code",
        "colab": {
          "base_uri": "https://localhost:8080/",
          "height": 357
        },
        "outputId": "bb60dbc7-08de-4743-f6b2-adb27c80bdef"
      },
      "source": [
        "# We will use replace function to replace the '?'s \n",
        "dataset_file = dataset_file.replace('?',np.NaN)\n",
        "\n",
        "# fill na values\n",
        "dataset_file.fillna(dataset_file.mean(),inplace = True)\n",
        "\n",
        "# NaN count\n",
        "printblock(\"NaN count\")\n",
        "dataset_file.isnull().sum()"
      ],
      "execution_count": 90,
      "outputs": [
        {
          "output_type": "stream",
          "text": [
            "----------------------------------------------------------------\n",
            "NaN count\n",
            "----------------------------------------------------------------\n"
          ],
          "name": "stdout"
        },
        {
          "output_type": "execute_result",
          "data": {
            "text/plain": [
              "0     12\n",
              "1     12\n",
              "2      0\n",
              "3      6\n",
              "4      6\n",
              "5      9\n",
              "6      9\n",
              "7      0\n",
              "8      0\n",
              "9      0\n",
              "10     0\n",
              "11     0\n",
              "12     0\n",
              "13    13\n",
              "14     0\n",
              "15     0\n",
              "dtype: int64"
            ]
          },
          "metadata": {
            "tags": []
          },
          "execution_count": 90
        }
      ]
    },
    {
      "cell_type": "code",
      "metadata": {
        "id": "-CWFT0PtAR_N",
        "colab_type": "code",
        "colab": {
          "base_uri": "https://localhost:8080/",
          "height": 357
        },
        "outputId": "e65b0b69-2db4-47cd-e5f6-1d290888a1f1"
      },
      "source": [
        "# Looping through columns\n",
        "for col in dataset_file.columns:\n",
        "  if dataset_file[col].dtypes == 'object':\n",
        "    dataset_file = dataset_file.fillna(dataset_file[col].value_counts().index[0])\n",
        "printblock(\"RECHECK - NaN's\")\n",
        "print(dataset_file.isnull().sum())"
      ],
      "execution_count": 91,
      "outputs": [
        {
          "output_type": "stream",
          "text": [
            "----------------------------------------------------------------\n",
            "RECHECK - NaN's\n",
            "----------------------------------------------------------------\n",
            "0     0\n",
            "1     0\n",
            "2     0\n",
            "3     0\n",
            "4     0\n",
            "5     0\n",
            "6     0\n",
            "7     0\n",
            "8     0\n",
            "9     0\n",
            "10    0\n",
            "11    0\n",
            "12    0\n",
            "13    0\n",
            "14    0\n",
            "15    0\n",
            "dtype: int64\n"
          ],
          "name": "stdout"
        }
      ]
    },
    {
      "cell_type": "markdown",
      "metadata": {
        "id": "Ksj5ZnwcesCj",
        "colab_type": "text"
      },
      "source": [
        "# Features Analysis"
      ]
    },
    {
      "cell_type": "code",
      "metadata": {
        "id": "I1DGSuQ2ewzw",
        "colab_type": "code",
        "colab": {
          "base_uri": "https://localhost:8080/",
          "height": 1000
        },
        "outputId": "d810df68-f943-4c71-8e7a-c64fe069a5d8"
      },
      "source": [
        "# Non object column features analysis\n",
        "\n",
        "for col in dataset_file.columns:\n",
        "  if dataset_file[col].dtype != \"object\":\n",
        "    printblock(\"feature - \",col)\n",
        "    plot(dataset_file[col])"
      ],
      "execution_count": 103,
      "outputs": [
        {
          "output_type": "stream",
          "text": [
            "----------------------------------------------------------------\n",
            "feature -  2\n",
            "----------------------------------------------------------------\n"
          ],
          "name": "stdout"
        },
        {
          "output_type": "display_data",
          "data": {
            "image/png": "[encoded data removed]",
            "text/plain": [
              "<Figure size 432x288 with 1 Axes>"
            ]
          },
          "metadata": {
            "tags": [],
            "needs_background": "light"
          }
        },
        {
          "output_type": "stream",
          "text": [
            "----------------------------------------------------------------\n",
            "feature -  7\n",
            "----------------------------------------------------------------\n"
          ],
          "name": "stdout"
        },
        {
          "output_type": "display_data",
          "data": {
            "image/png": "[encoded data removed]",
            "text/plain": [
              "<Figure size 432x288 with 1 Axes>"
            ]
          },
          "metadata": {
            "tags": [],
            "needs_background": "light"
          }
        },
        {
          "output_type": "stream",
          "text": [
            "----------------------------------------------------------------\n",
            "feature -  10\n",
            "----------------------------------------------------------------\n"
          ],
          "name": "stdout"
        },
        {
          "output_type": "display_data",
          "data": {
            "image/png": "[encoded data removed]",
            "text/plain": [
              "<Figure size 432x288 with 1 Axes>"
            ]
          },
          "metadata": {
            "tags": [],
            "needs_background": "light"
          }
        },
        {
          "output_type": "stream",
          "text": [
            "----------------------------------------------------------------\n",
            "feature -  14\n",
            "----------------------------------------------------------------\n"
          ],
          "name": "stdout"
        },
        {
          "output_type": "display_data",
          "data": {
            "image/png": "[encoded data removed]",
            "text/plain": [
              "<Figure size 432x288 with 1 Axes>"
            ]
          },
          "metadata": {
            "tags": [],
            "needs_background": "light"
          }
        }
      ]
    },
    {
      "cell_type": "code",
      "metadata": {
        "id": "PkCtiM5r6bHJ",
        "colab_type": "code",
        "colab": {
          "base_uri": "https://localhost:8080/",
          "height": 350
        },
        "outputId": "b72adb5b-6352-42e0-956e-bf5a4c1d3794"
      },
      "source": [
        "printblock(\"Approved or Not graph\")\n",
        "sns.countplot(data = dataset_file,x=dataset_file[15])"
      ],
      "execution_count": 116,
      "outputs": [
        {
          "output_type": "stream",
          "text": [
            "----------------------------------------------------------------\n",
            "Approved or Not graph None\n",
            "----------------------------------------------------------------\n"
          ],
          "name": "stdout"
        },
        {
          "output_type": "execute_result",
          "data": {
            "text/plain": [
              "<matplotlib.axes._subplots.AxesSubplot at 0x7fcb4036e128>"
            ]
          },
          "metadata": {
            "tags": []
          },
          "execution_count": 116
        },
        {
          "output_type": "display_data",
          "data": {
            "image/png": "[encoded data removed]",
            "text/plain": [
              "<Figure size 432x288 with 1 Axes>"
            ]
          },
          "metadata": {
            "tags": [],
            "needs_background": "light"
          }
        }
      ]
    },
    {
      "cell_type": "markdown",
      "metadata": {
        "id": "pViVzXSiH5SC",
        "colab_type": "text"
      },
      "source": [
        "# Preprocessing Data"
      ]
    },
    {
      "cell_type": "code",
      "metadata": {
        "id": "uixvvB26I4jC",
        "colab_type": "code",
        "colab": {}
      },
      "source": [
        "# LabelEncoder() is used to convert all the data into numerical data\n",
        "le = LabelEncoder()\n",
        "\n",
        "# Looping through the dataset and transforming the data into numerical data\n",
        "for col in dataset_file.columns:\n",
        "  if dataset_file[col].dtype == 'object' :\n",
        "    dataset_file[col] = le.fit_transform(dataset_file[col])\n",
        "dataset_file.head()"
      ],
      "execution_count": null,
      "outputs": []
    },
    {
      "cell_type": "markdown",
      "metadata": {
        "id": "lpWdnV9yMOXW",
        "colab_type": "text"
      },
      "source": [
        "# Test Train Split\n"
      ]
    },
    {
      "cell_type": "code",
      "metadata": {
        "id": "xGY0NCSUMRqd",
        "colab_type": "code",
        "colab": {}
      },
      "source": [
        "# Taking all values into this variable\n",
        "dataset_file = dataset_file.values\n",
        "\n",
        "# Splitting the data (table) into two different tables \n",
        "  # One with features - x\n",
        "  # One with Labels - y\n",
        "x,y = dataset_file[:,0:15], dataset_file[:,15]\n",
        "\n",
        "# printing info\n",
        "printblock(\"Dimentions info : \")\n",
        "print(\"Dataset - dataset_file : \",str(dataset_file.shape),\"\\n\")\n",
        "print(\"Features - x :\",str(x.shape).rjust(20),\"\\n\")\n",
        "print(\"Labels - y :\",str(y.shape).rjust(19),\"\\n\")"
      ],
      "execution_count": null,
      "outputs": []
    },
    {
      "cell_type": "code",
      "metadata": {
        "id": "UgqvzqXSN2Pm",
        "colab_type": "code",
        "colab": {}
      },
      "source": [
        "# test and train splitting\n",
        "x_train, x_test,y_train,y_test = train_test_split(x,y,test_size\n",
        "                                                  =0.20,random_state =20)\n",
        "printblock(\"Train Test Splitting Info\")\n",
        "print(\"Total : 100%     - \",dataset_file.shape[0])\n",
        "print(\"Training : 80%   - \",dataset_file.shape[0]*0.8)\n",
        "print(\"Testing : 20%    - \",dataset_file.shape[0]*0.2)\n"
      ],
      "execution_count": null,
      "outputs": []
    },
    {
      "cell_type": "code",
      "metadata": {
        "id": "H1COZTl4QwWI",
        "colab_type": "code",
        "colab": {}
      },
      "source": [
        "printblock(\"Training Dimentions\")\n",
        "print(\"Features : \",x_train.shape)\n",
        "print(\"Labels : \",str(y_train.shape).rjust(8))\n",
        "printblock(\"Testing Dimentions\")\n",
        "print(\"Features : \",x_test.shape)\n",
        "print(\"Labels : \",str(y_test.shape).rjust(8))"
      ],
      "execution_count": null,
      "outputs": []
    },
    {
      "cell_type": "code",
      "metadata": {
        "id": "In8XpyxITFs4",
        "colab_type": "code",
        "colab": {}
      },
      "source": [
        "# to normalize the data we will use minmaxscaler\n",
        "scaler = MinMaxScaler(feature_range=(0,1))\n",
        "x_train_rescaled = scaler.fit_transform(x_train)\n",
        "x_test_rescaled = scaler.fit_transform(x_test)\n",
        "printblock(\"NOW the data is ready to be used in a Regression Model\")"
      ],
      "execution_count": null,
      "outputs": []
    },
    {
      "cell_type": "markdown",
      "metadata": {
        "id": "GtjwPNKLVaqD",
        "colab_type": "text"
      },
      "source": [
        "# Fitting the Data to a Regression Model\n",
        "\n",
        "I will be using three Linear Models to check the accuracy in different models\n",
        "\n",
        "Referece for the mathematics behind these models - [link](https://scikit-learn.org/stable/modules/linear_model.html)\n",
        "\n",
        "1. Linear Regression Model\n",
        "2. Logistic Regression Model\n",
        "3. Ridge Regression Model"
      ]
    },
    {
      "cell_type": "code",
      "metadata": {
        "id": "ZEsfsl-6VeW3",
        "colab_type": "code",
        "colab": {}
      },
      "source": [
        "# different model instances and model fit\n",
        "lin_reg = LinearRegression()\n",
        "log_reg = LogisticRegression()\n",
        "rig_cla = RidgeClassifier();\n",
        "lin_reg.fit(x_train_rescaled,y_train)\n",
        "log_reg.fit(x_train_rescaled,y_train)\n",
        "rig_cla.fit(x_train_rescaled,y_train)"
      ],
      "execution_count": null,
      "outputs": []
    },
    {
      "cell_type": "markdown",
      "metadata": {
        "id": "FNvQDLn0YlFa",
        "colab_type": "text"
      },
      "source": [
        "# Predictions and Performace\n",
        "\n",
        "The performance can be changed by tweeking the variables when fitting the model"
      ]
    },
    {
      "cell_type": "code",
      "metadata": {
        "id": "xhPNmk2oYpRm",
        "colab_type": "code",
        "colab": {}
      },
      "source": [
        "# linear\n",
        "pred_y1 = lin_reg.predict(x_test_rescaled)\n",
        "printblock(\"Linear Regression Accuracy \")\n",
        "accuracy(lin_reg)\n",
        "\n",
        "# logisitic\n",
        "pred_y2 = log_reg.predict(x_test_rescaled)\n",
        "printblock(\"Logistic Regression Accuracy \")\n",
        "accuracy(log_reg)\n",
        "\n",
        "# Ridge\n",
        "pred_y3 = rig_cla.predict(x_test_rescaled)\n",
        "printblock(\"Ridge Regression and Classifier Accuracy \")\n",
        "accuracy(rig_cla)"
      ],
      "execution_count": null,
      "outputs": []
    }
  ]
}